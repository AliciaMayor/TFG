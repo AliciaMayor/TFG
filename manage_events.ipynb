{
 "cells": [
  {
   "cell_type": "code",
   "execution_count": 61,
   "id": "329158d3-257b-4271-b6d2-8cac4a5129e7",
   "metadata": {},
   "outputs": [],
   "source": [
    "import os\n",
    "import pandas as pd\n",
    "import numpy as np"
   ]
  },
  {
   "cell_type": "code",
   "execution_count": 62,
   "id": "38d5f753-33ab-4bb5-bfa2-3b843274b9c1",
   "metadata": {},
   "outputs": [],
   "source": [
    "def process_event_files(folder_path):\n",
    "\n",
    "    timestamps_event1 = []\n",
    "    timestamps_event2 = []\n",
    "    timestamps_event3 = []\n",
    "    timestamps_event4 = []\n",
    "    timestamps_event5 = []\n",
    "    timestamps_event6 = []\n",
    "\n",
    "    # Recorrer todos los archivos CSV en la carpeta\n",
    "    for filename in os.listdir(folder_path):\n",
    "        if filename.endswith('.csv'):\n",
    "            file_path = os.path.join(folder_path, filename)\n",
    "            \n",
    "            # Leer el archivo CSV\n",
    "            df = pd.read_csv(file_path)\n",
    "            \n",
    "            # Extraer los timestamps para cada evento y agregar a los arrays correspondientes\n",
    "            event1_timestamp = df.loc[df['Evento'] == \"Evento '1'\", 'Timestamp']\n",
    "            event2_timestamp = df.loc[df['Evento'] == \"Evento '2'\", 'Timestamp']\n",
    "            event3_timestamp = df.loc[df['Evento'] == \"Evento '3'\", 'Timestamp']\n",
    "            event4_timestamp = df.loc[df['Evento'] == \"Evento '4'\", 'Timestamp']\n",
    "            event5_timestamp = df.loc[df['Evento'] == \"Evento '5'\", 'Timestamp']\n",
    "            event6_timestamp = df.loc[df['Evento'] == \"Evento '6'\", 'Timestamp']\n",
    "            \n",
    "            if not event1_timestamp.empty:\n",
    "                timestamps_event1.append(event1_timestamp.values[0])\n",
    "            if not event2_timestamp.empty:\n",
    "                timestamps_event2.append(event2_timestamp.values[0])\n",
    "            if not event3_timestamp.empty:\n",
    "                timestamps_event3.append(event3_timestamp.values[0])\n",
    "            if not event4_timestamp.empty:\n",
    "                timestamps_event4.append(event4_timestamp.values[0])\n",
    "            if not event5_timestamp.empty:\n",
    "                timestamps_event5.append(event5_timestamp.values[0])\n",
    "            if not event6_timestamp.empty:\n",
    "                timestamps_event6.append(event6_timestamp.values[0])\n",
    "    \n",
    "    return timestamps_event1, timestamps_event2, timestamps_event3, timestamps_event4, timestamps_event5, timestamps_event6"
   ]
  },
  {
   "cell_type": "code",
   "execution_count": 63,
   "id": "375b1d10-01c8-4aed-97de-5af801420fae",
   "metadata": {},
   "outputs": [],
   "source": [
    "timestamps_event1, timestamps_event2, timestamps_event3, timestamps_event4,  timestamps_event5,  timestamps_event6 = process_event_files('experimentoEventos')"
   ]
  },
  {
   "cell_type": "code",
   "execution_count": 64,
   "id": "0c870ea8-eb13-4ae3-bc9e-2b740ca1619f",
   "metadata": {},
   "outputs": [],
   "source": [
    "event1_durations = [t2 - t1 for t1, t2 in zip(timestamps_event1, timestamps_event2)]\n",
    "event2_durations = [t4 - t3 for t3, t4 in zip(timestamps_event3, timestamps_event4)]\n",
    "event3_durations = [t6 - t5 for t5, t6 in zip(timestamps_event5, timestamps_event6)]"
   ]
  },
  {
   "cell_type": "code",
   "execution_count": 65,
   "id": "d79e9c57-2277-41b2-869e-54263077df62",
   "metadata": {},
   "outputs": [],
   "source": [
    "# print(\"Duraciones Evento 1:\", event1_durations)\n",
    "# print(\"Duraciones Evento 2:\", event2_durations)\n",
    "# print(\"Duraciones Evento 3:\", event3_durations)"
   ]
  },
  {
   "cell_type": "code",
   "execution_count": 66,
   "id": "36f359dd-49c5-445b-a334-47d5f0de6de1",
   "metadata": {},
   "outputs": [],
   "source": [
    "mean_event1_duration = np.mean(event1_durations)\n",
    "mean_event2_duration = np.mean(event2_durations)\n",
    "mean_event3_duration = np.mean(event3_durations)"
   ]
  },
  {
   "cell_type": "code",
   "execution_count": 67,
   "id": "bdd4ad98-07c5-4438-b903-0d97aea0de69",
   "metadata": {},
   "outputs": [
    {
     "name": "stdout",
     "output_type": "stream",
     "text": [
      "Media Evento 1: 41.94820733224192\n",
      "Media Evento 2: 42.40614939505054\n",
      "Media Evento 3: 45.22477529894921\n"
     ]
    }
   ],
   "source": [
    "print(\"Media Evento 1:\", mean_event1_duration)\n",
    "print(\"Media Evento 2:\", mean_event2_duration)\n",
    "print(\"Media Evento 3:\", mean_event3_duration)"
   ]
  },
  {
   "cell_type": "code",
   "execution_count": 68,
   "id": "8208778d-0f01-4c02-bebe-ec28bf4b4dbb",
   "metadata": {},
   "outputs": [
    {
     "name": "stdout",
     "output_type": "stream",
     "text": [
      "129.57913202624167\n"
     ]
    }
   ],
   "source": [
    "mean_all_duration = mean_event1_duration + mean_event2_duration + mean_event3_duration\n",
    "print(mean_all_duration)"
   ]
  },
  {
   "cell_type": "code",
   "execution_count": 71,
   "id": "0c1f15b9-853d-4b26-b159-0e2ecfd0ba8b",
   "metadata": {},
   "outputs": [
    {
     "name": "stdout",
     "output_type": "stream",
     "text": [
      "Participante con menor duración total: 72.29030108451843 (posición: 28)\n",
      "Participante con menor duración: 035_events_data.csv\n",
      "\n",
      "Participante con mayor duración total: 276.2755560874939 (posición: 7)\n",
      "Participante con mayor duración: 010_events_data.csv\n",
      "\n",
      "178.39396929740906\n"
     ]
    }
   ],
   "source": [
    "all_durations = [t6 - t1 for t1, t6 in zip(timestamps_event1, timestamps_event6)]\n",
    "\n",
    "# Encontrar el participante con el menor y mayor valor de la suma de las duraciones\n",
    "min_duration = min(all_durations)\n",
    "max_duration = max(all_durations)\n",
    "min_index = all_durations.index(min_duration)\n",
    "max_index = all_durations.index(max_duration)\n",
    "\n",
    "print(f\"Participante con menor duración total: {min_duration} (posición: {min_index})\")\n",
    "print(\"Participante con menor duración: 035_events_data.csv\\n\")\n",
    "print(f\"Participante con mayor duración total: {max_duration} (posición: {max_index})\")\n",
    "print(\"Participante con mayor duración: 010_events_data.csv\\n\")\n",
    "print(all_durations[2])"
   ]
  },
  {
   "cell_type": "code",
   "execution_count": 73,
   "id": "cba42f1f-a244-400b-ac06-f4015c036679",
   "metadata": {},
   "outputs": [
    {
     "name": "stdout",
     "output_type": "stream",
     "text": [
      "72.29030108451843\n"
     ]
    }
   ],
   "source": [
    "print(1715074712.7466705-1715074640.4563694)"
   ]
  },
  {
   "cell_type": "code",
   "execution_count": null,
   "id": "16231f26-e4e3-4973-b684-b1cffc04560f",
   "metadata": {},
   "outputs": [],
   "source": []
  },
  {
   "cell_type": "code",
   "execution_count": null,
   "id": "b533f569-0947-47f6-842d-aed8abcba200",
   "metadata": {},
   "outputs": [],
   "source": []
  }
 ],
 "metadata": {
  "kernelspec": {
   "display_name": "TFGinicios",
   "language": "python",
   "name": "tfginicios"
  },
  "language_info": {
   "codemirror_mode": {
    "name": "ipython",
    "version": 3
   },
   "file_extension": ".py",
   "mimetype": "text/x-python",
   "name": "python",
   "nbconvert_exporter": "python",
   "pygments_lexer": "ipython3",
   "version": "3.10.13"
  }
 },
 "nbformat": 4,
 "nbformat_minor": 5
}
