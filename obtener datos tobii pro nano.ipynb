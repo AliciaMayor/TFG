{
 "cells": [
  {
   "cell_type": "code",
   "execution_count": 67,
   "id": "efdeabd6",
   "metadata": {},
   "outputs": [
    {
     "name": "stdout",
     "output_type": "stream",
     "text": [
      "3.10.13 | packaged by Anaconda, Inc. | (main, Sep 11 2023, 13:24:38) [MSC v.1916 64 bit (AMD64)]\n"
     ]
    }
   ],
   "source": [
    "import sys\n",
    "print(sys.version)"
   ]
  },
  {
   "cell_type": "code",
   "execution_count": 68,
   "id": "5d81198f",
   "metadata": {},
   "outputs": [],
   "source": [
    "import tobii_research as tr"
   ]
  },
  {
   "cell_type": "code",
   "execution_count": 69,
   "id": "bf1e9e69",
   "metadata": {},
   "outputs": [],
   "source": [
    "import time\n",
    "import csv\n",
    "import os\n",
    "import keyboard\n",
    "from collections import defaultdict"
   ]
  },
  {
   "cell_type": "markdown",
   "id": "5447ebd6",
   "metadata": {},
   "source": [
    "Inicializo diccionario para contar los eventos (pulsar la tecla e)"
   ]
  },
  {
   "cell_type": "code",
   "execution_count": 70,
   "id": "fda043cd",
   "metadata": {},
   "outputs": [],
   "source": [
    "event_count = defaultdict(int)\n",
    "key_pressed = False"
   ]
  },
  {
   "cell_type": "code",
   "execution_count": 71,
   "id": "0473fff0",
   "metadata": {},
   "outputs": [],
   "source": [
    " global_user_position_guide = None"
   ]
  },
  {
   "cell_type": "code",
   "execution_count": 72,
   "id": "ab6cc930",
   "metadata": {},
   "outputs": [],
   "source": [
    "global_csv_filename = \"gaze_data_1.csv\"\n",
    "event_csv_filename = \"eventos_1.csv\""
   ]
  },
  {
   "cell_type": "code",
   "execution_count": 73,
   "id": "6e297118",
   "metadata": {},
   "outputs": [],
   "source": [
    "found_eyetrackers = tr.find_all_eyetrackers()"
   ]
  },
  {
   "cell_type": "code",
   "execution_count": 74,
   "id": "febaeeba",
   "metadata": {},
   "outputs": [],
   "source": [
    "my_eyetracker = found_eyetrackers[0]"
   ]
  },
  {
   "cell_type": "code",
   "execution_count": 75,
   "id": "dbdc94bf",
   "metadata": {},
   "outputs": [
    {
     "name": "stdout",
     "output_type": "stream",
     "text": [
      "Address: tobii-prp://TPNA1-030251340594\n",
      "Model: Tobii Pro Nano\n",
      "Name: \n",
      "Serial number: TPNA1-030251340594\n"
     ]
    }
   ],
   "source": [
    "print(\"Address: \" + my_eyetracker.address)\n",
    "print(\"Model: \" + my_eyetracker.model)\n",
    "print(\"Name: \" + my_eyetracker.device_name)\n",
    "print(\"Serial number: \" + my_eyetracker.serial_number)"
   ]
  },
  {
   "cell_type": "markdown",
   "id": "1f074696",
   "metadata": {},
   "source": [
    "Función que saca las **posiciones X e Y de cada ojo** y lo escribe en un csv:"
   ]
  },
  {
   "cell_type": "markdown",
   "id": "ffe84a25",
   "metadata": {},
   "source": [
    "Iba a plantearla sobreescribiendo el archivo de datos cada vez que se analice, pero la he dejado así por si queremos tener diferentes archivos con datos particulares, simplemente cambiar el nombre del csv a crear y así podremos crear distintos csvs con distintos datos con la misma función."
   ]
  },
  {
   "cell_type": "markdown",
   "id": "2c080a08",
   "metadata": {},
   "source": [
    "**IMPORTANTE: BORRAR EL CSV ANTES DE HACER QUE ESTA FUNCIÓN SE EJECUTE**"
   ]
  },
  {
   "cell_type": "code",
   "execution_count": 76,
   "id": "534e9bca",
   "metadata": {},
   "outputs": [],
   "source": [
    "def gaze_data_callback(gaze_data):\n",
    "    \n",
    "#    print(\"Left eye: ({gaze_left_eye}, left pupil: {pupil_left_eye}) \\t Right eye: ({gaze_right_eye}, Right pupil: {pupil_right_eye}, time: {timestamp})\".format(\n",
    "#    gaze_left_eye=gaze_data['left_gaze_point_on_display_area'],\n",
    "#    gaze_right_eye=gaze_data['right_gaze_point_on_display_area'],\n",
    "#    pupil_left_eye=gaze_data['left_pupil_diameter'],\n",
    "#    pupil_right_eye=gaze_data['right_pupil_diameter'],\n",
    "#    timestamp=gaze_data['device_time_stamp']))\n",
    "    \n",
    "    global event_count, key_pressed, global_csv_filename, event_csv_filename\n",
    "    \n",
    "    if keyboard.is_pressed('e') and not key_pressed:\n",
    "        event_count['e']+=1\n",
    "        key_pressed = True\n",
    "\n",
    "        event_number = event_count['e']\n",
    "        \n",
    "        with open(event_csv_filename, mode='a', newline='') as file:\n",
    "            event_writer = csv.writer(file)\n",
    "\n",
    "            if file.tell() == 0:\n",
    "                event_writer.writerow(['Evento','Timestamp'])\n",
    "                \n",
    "            event_writer.writerow([f'Evento {event_number}', gaze_data['system_time_stamp']])\n",
    "                                      \n",
    "    elif not keyboard.is_pressed('e'):\n",
    "        key_pressed = False\n",
    "    \n",
    "    # Guardar los datos en un archivo CSV con nombres de columnas\n",
    "    csv_filename = global_csv_filename\n",
    "\n",
    "    # Definir nombres de columnas\n",
    "    fieldnames = ['Left Eye X', 'Left Eye Y', 'Right Eye X', 'Right Eye Y', 'Pupil left eye', 'Pupil right eye', 'Timestamp device', 'Timestamp system']\n",
    "#    fieldnames = ['Left Eye X', 'Left Eye Y', 'Right Eye X', 'Right Eye Y', 'Pupil left eye', 'Pupil right eye', 'Timestamp']\n",
    "    with open(csv_filename, mode='a', newline='') as file:\n",
    "        writer = csv.DictWriter(file, fieldnames=fieldnames)\n",
    "\n",
    "        # Si el archivo está vacío, escribir encabezados\n",
    "        if file.tell() == 0:\n",
    "            writer.writeheader()\n",
    "\n",
    "        # Obtener datos relevantes y formatearlos adecuadamente\n",
    "        left_eye_data = gaze_data['left_gaze_point_on_display_area']\n",
    "        right_eye_data = gaze_data['right_gaze_point_on_display_area']\n",
    "        left_eye_pupil = gaze_data['left_pupil_diameter']\n",
    "        right_eye_pupil = gaze_data['right_pupil_diameter']\n",
    "        timestamp_device = gaze_data['device_time_stamp']\n",
    "        timestamp_system = gaze_data['system_time_stamp']\n",
    "\n",
    "        # Asegurarse de que los datos son del tipo adecuado para la escritura CSV\n",
    "        left_eye_data = tuple(map(float, left_eye_data))\n",
    "        right_eye_data = tuple(map(float, right_eye_data))\n",
    "        \n",
    "\n",
    "        # Crear un diccionario con nombres de columnas\n",
    "        row_dict = {\n",
    "            'Left Eye X': left_eye_data[0],\n",
    "            'Left Eye Y': left_eye_data[1],\n",
    "            'Right Eye X': right_eye_data[0],\n",
    "            'Right Eye Y': right_eye_data[1],\n",
    "            'Pupil left eye': left_eye_pupil,\n",
    "            'Pupil right eye': right_eye_pupil,\n",
    "            'Timestamp device': timestamp_device,\n",
    "            'Timestamp system': timestamp_system\n",
    "        }\n",
    "\n",
    "        # Escribir datos en el archivo CSV\n",
    "        writer.writerow(row_dict)"
   ]
  },
  {
   "cell_type": "code",
   "execution_count": 77,
   "id": "f17e2666",
   "metadata": {},
   "outputs": [],
   "source": [
    "my_eyetracker.subscribe_to(tr.EYETRACKER_GAZE_DATA, gaze_data_callback, as_dictionary=True)\n"
   ]
  },
  {
   "cell_type": "code",
   "execution_count": 78,
   "id": "0105db03",
   "metadata": {},
   "outputs": [],
   "source": [
    "#time.sleep(5)\n"
   ]
  },
  {
   "cell_type": "code",
   "execution_count": 79,
   "id": "af0d4d7d",
   "metadata": {},
   "outputs": [],
   "source": [
    "my_eyetracker.unsubscribe_from(tr.EYETRACKER_GAZE_DATA, gaze_data_callback)"
   ]
  },
  {
   "cell_type": "code",
   "execution_count": 45,
   "id": "47bcba50",
   "metadata": {},
   "outputs": [],
   "source": [
    "\n",
    "    "
   ]
  },
  {
   "cell_type": "code",
   "execution_count": null,
   "id": "62a91e44",
   "metadata": {},
   "outputs": [],
   "source": []
  },
  {
   "cell_type": "code",
   "execution_count": null,
   "id": "1ecb8415",
   "metadata": {},
   "outputs": [],
   "source": []
  }
 ],
 "metadata": {
  "kernelspec": {
   "display_name": "experimentoBaxter",
   "language": "python",
   "name": "experimentobaxter"
  },
  "language_info": {
   "codemirror_mode": {
    "name": "ipython",
    "version": 3
   },
   "file_extension": ".py",
   "mimetype": "text/x-python",
   "name": "python",
   "nbconvert_exporter": "python",
   "pygments_lexer": "ipython3",
   "version": "3.10.13"
  }
 },
 "nbformat": 4,
 "nbformat_minor": 5
}
