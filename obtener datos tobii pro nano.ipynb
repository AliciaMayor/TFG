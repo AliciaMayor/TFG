{
 "cells": [
  {
   "cell_type": "code",
   "execution_count": 40,
   "id": "efdeabd6",
   "metadata": {},
   "outputs": [
    {
     "name": "stdout",
     "output_type": "stream",
     "text": [
      "3.10.13 | packaged by Anaconda, Inc. | (main, Sep 11 2023, 13:24:38) [MSC v.1916 64 bit (AMD64)]\n"
     ]
    }
   ],
   "source": [
    "import sys\n",
    "print(sys.version)"
   ]
  },
  {
   "cell_type": "code",
   "execution_count": 41,
   "id": "5d81198f",
   "metadata": {},
   "outputs": [],
   "source": [
    "import tobii_research as tr"
   ]
  },
  {
   "cell_type": "code",
   "execution_count": 42,
   "id": "bf1e9e69",
   "metadata": {},
   "outputs": [],
   "source": [
    "import time\n",
    "import csv\n",
    "import os\n",
    "import keyboard\n",
    "from collections import defaultdict"
   ]
  },
  {
   "cell_type": "markdown",
   "id": "5447ebd6",
   "metadata": {},
   "source": [
    "Inicializo diccionario para contar los eventos (pulsar la tecla e)"
   ]
  },
  {
   "cell_type": "code",
   "execution_count": 43,
   "id": "fda043cd",
   "metadata": {},
   "outputs": [],
   "source": [
    "event_count = defaultdict(int)\n",
    "key_pressed = False"
   ]
  },
  {
   "cell_type": "code",
   "execution_count": 44,
   "id": "0473fff0",
   "metadata": {},
   "outputs": [],
   "source": [
    " global_user_position_guide = None"
   ]
  },
  {
   "cell_type": "code",
   "execution_count": 45,
   "id": "ab6cc930",
   "metadata": {},
   "outputs": [],
   "source": [
    "global_csv_filename = \"gaze_data_1.csv\""
   ]
  },
  {
   "cell_type": "code",
   "execution_count": 46,
   "id": "6e297118",
   "metadata": {},
   "outputs": [],
   "source": [
    "found_eyetrackers = tr.find_all_eyetrackers()"
   ]
  },
  {
   "cell_type": "code",
   "execution_count": 36,
   "id": "febaeeba",
   "metadata": {},
   "outputs": [
    {
     "ename": "IndexError",
     "evalue": "tuple index out of range",
     "output_type": "error",
     "traceback": [
      "\u001b[1;31m---------------------------------------------------------------------------\u001b[0m",
      "\u001b[1;31mIndexError\u001b[0m                                Traceback (most recent call last)",
      "Cell \u001b[1;32mIn[36], line 1\u001b[0m\n\u001b[1;32m----> 1\u001b[0m my_eyetracker \u001b[38;5;241m=\u001b[39m \u001b[43mfound_eyetrackers\u001b[49m\u001b[43m[\u001b[49m\u001b[38;5;241;43m0\u001b[39;49m\u001b[43m]\u001b[49m\n",
      "\u001b[1;31mIndexError\u001b[0m: tuple index out of range"
     ]
    }
   ],
   "source": [
    "my_eyetracker = found_eyetrackers[0]"
   ]
  },
  {
   "cell_type": "code",
   "execution_count": 37,
   "id": "dbdc94bf",
   "metadata": {},
   "outputs": [
    {
     "ename": "NameError",
     "evalue": "name 'my_eyetracker' is not defined",
     "output_type": "error",
     "traceback": [
      "\u001b[1;31m---------------------------------------------------------------------------\u001b[0m",
      "\u001b[1;31mNameError\u001b[0m                                 Traceback (most recent call last)",
      "Cell \u001b[1;32mIn[37], line 1\u001b[0m\n\u001b[1;32m----> 1\u001b[0m \u001b[38;5;28mprint\u001b[39m(\u001b[38;5;124m\"\u001b[39m\u001b[38;5;124mAddress: \u001b[39m\u001b[38;5;124m\"\u001b[39m \u001b[38;5;241m+\u001b[39m \u001b[43mmy_eyetracker\u001b[49m\u001b[38;5;241m.\u001b[39maddress)\n\u001b[0;32m      2\u001b[0m \u001b[38;5;28mprint\u001b[39m(\u001b[38;5;124m\"\u001b[39m\u001b[38;5;124mModel: \u001b[39m\u001b[38;5;124m\"\u001b[39m \u001b[38;5;241m+\u001b[39m my_eyetracker\u001b[38;5;241m.\u001b[39mmodel)\n\u001b[0;32m      3\u001b[0m \u001b[38;5;28mprint\u001b[39m(\u001b[38;5;124m\"\u001b[39m\u001b[38;5;124mName: \u001b[39m\u001b[38;5;124m\"\u001b[39m \u001b[38;5;241m+\u001b[39m my_eyetracker\u001b[38;5;241m.\u001b[39mdevice_name)\n",
      "\u001b[1;31mNameError\u001b[0m: name 'my_eyetracker' is not defined"
     ]
    }
   ],
   "source": [
    "print(\"Address: \" + my_eyetracker.address)\n",
    "print(\"Model: \" + my_eyetracker.model)\n",
    "print(\"Name: \" + my_eyetracker.device_name)\n",
    "print(\"Serial number: \" + my_eyetracker.serial_number)"
   ]
  },
  {
   "cell_type": "markdown",
   "id": "1f074696",
   "metadata": {},
   "source": [
    "Función que saca las **posiciones X e Y de cada ojo** y lo escribe en un csv:"
   ]
  },
  {
   "cell_type": "markdown",
   "id": "ffe84a25",
   "metadata": {},
   "source": [
    "Iba a plantearla sobreescribiendo el archivo de datos cada vez que se analice, pero la he dejado así por si queremos tener diferentes archivos con datos particulares, simplemente cambiar el nombre del csv a crear y así podremos crear distintos csvs con distintos datos con la misma función."
   ]
  },
  {
   "cell_type": "markdown",
   "id": "2c080a08",
   "metadata": {},
   "source": [
    "**IMPORTANTE: BORRAR EL CSV ANTES DE HACER QUE ESTA FUNCIÓN SE EJECUTE**"
   ]
  },
  {
   "cell_type": "code",
   "execution_count": 47,
   "id": "534e9bca",
   "metadata": {},
   "outputs": [],
   "source": [
    "def gaze_data_callback(gaze_data):\n",
    "    \n",
    "    global event_count, key_pressed, global_csv_filename\n",
    "    \n",
    "    if keyboard.is_pressed('e') and not key_pressed:\n",
    "        event_count['e']+=1\n",
    "        key_pressed = True\n",
    "    elif not keyboard.is_pressed('e'):\n",
    "        key_pressed = False\n",
    "\n",
    "    csv_filename = global_csv_filename\n",
    "\n",
    "    fieldnames = ['Left Eye X', 'Left Eye Y', 'Right Eye X', 'Right Eye Y', 'Pupil left eye', 'Pupil right eye', 'Timestamp device', 'Timestamp system', 'Event']\n",
    "    with open(csv_filename, mode='a', newline='') as file:\n",
    "        writer = csv.DictWriter(file, fieldnames=fieldnames)\n",
    "\n",
    "        if file.tell() == 0:\n",
    "            writer.writeheader()\n",
    "\n",
    "        left_eye_data = gaze_data['left_gaze_point_on_display_area']\n",
    "        right_eye_data = gaze_data['right_gaze_point_on_display_area']\n",
    "        left_eye_pupil = gaze_data['left_pupil_diameter']\n",
    "        right_eye_pupil = gaze_data['right_pupil_diameter']\n",
    "        timestamp_device = gaze_data['device_time_stamp']\n",
    "        timestamp_system = gaze_data['system_time_stamp']\n",
    "\n",
    "        left_eye_data = tuple(map(float, left_eye_data))\n",
    "        right_eye_data = tuple(map(float, right_eye_data))\n",
    "        \n",
    "        event_number = event_count['e']\n",
    "\n",
    "        row_dict = {\n",
    "            'Left Eye X': left_eye_data[0],\n",
    "            'Left Eye Y': left_eye_data[1],\n",
    "            'Right Eye X': right_eye_data[0],\n",
    "            'Right Eye Y': right_eye_data[1],\n",
    "            'Pupil left eye': left_eye_pupil,\n",
    "            'Pupil right eye': right_eye_pupil,\n",
    "            'Timestamp device': timestamp_device,\n",
    "            'Timestamp system': timestamp_system,\n",
    "            'Event': f'Evento {event_number}'\n",
    "        }\n",
    "\n",
    "        writer.writerow(row_dict)"
   ]
  },
  {
   "cell_type": "code",
   "execution_count": 48,
   "id": "f17e2666",
   "metadata": {},
   "outputs": [
    {
     "ename": "NameError",
     "evalue": "name 'my_eyetracker' is not defined",
     "output_type": "error",
     "traceback": [
      "\u001b[1;31m---------------------------------------------------------------------------\u001b[0m",
      "\u001b[1;31mNameError\u001b[0m                                 Traceback (most recent call last)",
      "Cell \u001b[1;32mIn[48], line 1\u001b[0m\n\u001b[1;32m----> 1\u001b[0m \u001b[43mmy_eyetracker\u001b[49m\u001b[38;5;241m.\u001b[39msubscribe_to(tr\u001b[38;5;241m.\u001b[39mEYETRACKER_GAZE_DATA, gaze_data_callback, as_dictionary\u001b[38;5;241m=\u001b[39m\u001b[38;5;28;01mTrue\u001b[39;00m)\n",
      "\u001b[1;31mNameError\u001b[0m: name 'my_eyetracker' is not defined"
     ]
    }
   ],
   "source": [
    "my_eyetracker.subscribe_to(tr.EYETRACKER_GAZE_DATA, gaze_data_callback, as_dictionary=True)\n"
   ]
  },
  {
   "cell_type": "code",
   "execution_count": 21,
   "id": "0105db03",
   "metadata": {},
   "outputs": [],
   "source": [
    "#time.sleep(5)\n"
   ]
  },
  {
   "cell_type": "code",
   "execution_count": 22,
   "id": "af0d4d7d",
   "metadata": {},
   "outputs": [
    {
     "ename": "NameError",
     "evalue": "name 'my_eyetracker' is not defined",
     "output_type": "error",
     "traceback": [
      "\u001b[1;31m---------------------------------------------------------------------------\u001b[0m",
      "\u001b[1;31mNameError\u001b[0m                                 Traceback (most recent call last)",
      "Cell \u001b[1;32mIn[22], line 1\u001b[0m\n\u001b[1;32m----> 1\u001b[0m \u001b[43mmy_eyetracker\u001b[49m\u001b[38;5;241m.\u001b[39munsubscribe_from(tr\u001b[38;5;241m.\u001b[39mEYETRACKER_GAZE_DATA, gaze_data_callback)\n",
      "\u001b[1;31mNameError\u001b[0m: name 'my_eyetracker' is not defined"
     ]
    }
   ],
   "source": [
    "my_eyetracker.unsubscribe_from(tr.EYETRACKER_GAZE_DATA, gaze_data_callback)"
   ]
  },
  {
   "cell_type": "code",
   "execution_count": 45,
   "id": "47bcba50",
   "metadata": {},
   "outputs": [],
   "source": [
    "\n",
    "    "
   ]
  },
  {
   "cell_type": "code",
   "execution_count": null,
   "id": "62a91e44",
   "metadata": {},
   "outputs": [],
   "source": []
  },
  {
   "cell_type": "code",
   "execution_count": null,
   "id": "1ecb8415",
   "metadata": {},
   "outputs": [],
   "source": []
  }
 ],
 "metadata": {
  "kernelspec": {
   "display_name": "TFGinicios",
   "language": "python",
   "name": "tfginicios"
  },
  "language_info": {
   "codemirror_mode": {
    "name": "ipython",
    "version": 3
   },
   "file_extension": ".py",
   "mimetype": "text/x-python",
   "name": "python",
   "nbconvert_exporter": "python",
   "pygments_lexer": "ipython3",
   "version": "3.10.13"
  }
 },
 "nbformat": 4,
 "nbformat_minor": 5
}
