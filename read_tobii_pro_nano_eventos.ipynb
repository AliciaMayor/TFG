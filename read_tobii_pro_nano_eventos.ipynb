{
 "cells": [
  {
   "cell_type": "markdown",
   "id": "ff72df94-7f34-40b1-b589-0874e05e842f",
   "metadata": {},
   "source": [
    "## VARIABLES DE CONFIGURACION"
   ]
  },
  {
   "cell_type": "code",
   "execution_count": 3,
   "id": "29f8c019-0e20-4b41-9c33-67ba91a3d59c",
   "metadata": {},
   "outputs": [],
   "source": [
    "#PATH = 'DATA/tobii/'\n",
    "\n",
    "USER_ID = 'ALEX'\n"
   ]
  },
  {
   "cell_type": "code",
   "execution_count": 9,
   "id": "ab6cc930",
   "metadata": {},
   "outputs": [],
   "source": [
    "global_csv_filename = USER_ID+\"_gaze_data.csv\"\n",
    "event_csv_filename = USER_ID+\"_events_data.csv\""
   ]
  },
  {
   "cell_type": "code",
   "execution_count": 16,
   "id": "ee1ced21-6a6c-4085-b274-6cc8cc9d8351",
   "metadata": {},
   "outputs": [
    {
     "name": "stdout",
     "output_type": "stream",
     "text": [
      "EXPERIMENTO PARA EL USUARIO: DATA/tobii/ALEX_gaze_data.csv\n"
     ]
    }
   ],
   "source": [
    "import os\n",
    "\n",
    "if os.path.exists(global_csv_filename):\n",
    "    print(\"CAMBIAR NOMBRE USER_IR\")\n",
    "else:\n",
    "    print(\"EXPERIMENTO PARA EL USUARIO: \"+global_csv_filename)"
   ]
  },
  {
   "cell_type": "markdown",
   "id": "74df01c8-7014-4d3f-beef-a89b9d629872",
   "metadata": {},
   "source": [
    "## Importar librerias"
   ]
  },
  {
   "cell_type": "code",
   "execution_count": 17,
   "id": "efdeabd6",
   "metadata": {},
   "outputs": [
    {
     "name": "stdout",
     "output_type": "stream",
     "text": [
      "3.10.13 | packaged by Anaconda, Inc. | (main, Sep 11 2023, 13:24:38) [MSC v.1916 64 bit (AMD64)]\n"
     ]
    }
   ],
   "source": [
    "import sys\n",
    "print(sys.version)"
   ]
  },
  {
   "cell_type": "code",
   "execution_count": 18,
   "id": "5d81198f",
   "metadata": {},
   "outputs": [],
   "source": [
    "import tobii_research as tr"
   ]
  },
  {
   "cell_type": "code",
   "execution_count": 19,
   "id": "bf1e9e69",
   "metadata": {},
   "outputs": [],
   "source": [
    "import time\n",
    "import csv\n",
    "from collections import defaultdict"
   ]
  },
  {
   "cell_type": "code",
   "execution_count": 20,
   "id": "2e00fc6a-328f-4af1-a917-69086c69f6f3",
   "metadata": {},
   "outputs": [],
   "source": [
    "from pynput.keyboard import Key, Listener"
   ]
  },
  {
   "cell_type": "markdown",
   "id": "5447ebd6",
   "metadata": {},
   "source": [
    "Inicializo diccionario para contar los eventos (pulsar la tecla e)"
   ]
  },
  {
   "cell_type": "code",
   "execution_count": 21,
   "id": "0473fff0",
   "metadata": {},
   "outputs": [],
   "source": [
    "global_user_position_guide = None"
   ]
  },
  {
   "cell_type": "markdown",
   "id": "21aa8f0a-32a9-4d90-abe4-2ab6d09c64b5",
   "metadata": {},
   "source": [
    "## Comprobar conexión con Tobii"
   ]
  },
  {
   "cell_type": "code",
   "execution_count": 22,
   "id": "6e297118",
   "metadata": {},
   "outputs": [],
   "source": [
    "found_eyetrackers = tr.find_all_eyetrackers()"
   ]
  },
  {
   "cell_type": "code",
   "execution_count": 23,
   "id": "febaeeba",
   "metadata": {},
   "outputs": [],
   "source": [
    "my_eyetracker = found_eyetrackers[0]"
   ]
  },
  {
   "cell_type": "code",
   "execution_count": 24,
   "id": "dbdc94bf",
   "metadata": {},
   "outputs": [
    {
     "name": "stdout",
     "output_type": "stream",
     "text": [
      "Address: tobii-prp://TPNA1-030251340594\n",
      "Model: Tobii Pro Nano\n",
      "Name: \n",
      "Serial number: TPNA1-030251340594\n"
     ]
    }
   ],
   "source": [
    "print(\"Address: \" + my_eyetracker.address)\n",
    "print(\"Model: \" + my_eyetracker.model)\n",
    "print(\"Name: \" + my_eyetracker.device_name)\n",
    "print(\"Serial number: \" + my_eyetracker.serial_number)"
   ]
  },
  {
   "cell_type": "markdown",
   "id": "1f074696",
   "metadata": {},
   "source": [
    "Función que saca las **posiciones X e Y de cada ojo** y lo escribe en un csv:"
   ]
  },
  {
   "cell_type": "markdown",
   "id": "ffe84a25",
   "metadata": {},
   "source": [
    "Iba a plantearla sobreescribiendo el archivo de datos cada vez que se analice, pero la he dejado así por si queremos tener diferentes archivos con datos particulares, simplemente cambiar el nombre del csv a crear y así podremos crear distintos csvs con distintos datos con la misma función."
   ]
  },
  {
   "cell_type": "markdown",
   "id": "2c080a08",
   "metadata": {},
   "source": [
    "**IMPORTANTE: BORRAR EL CSV ANTES DE HACER QUE ESTA FUNCIÓN SE EJECUTE**"
   ]
  },
  {
   "cell_type": "code",
   "execution_count": 25,
   "id": "534e9bca",
   "metadata": {},
   "outputs": [],
   "source": [
    "def gaze_data_callback(gaze_data):\n",
    "    \n",
    "#    print(\"Left eye: ({gaze_left_eye}, left pupil: {pupil_left_eye}) \\t Right eye: ({gaze_right_eye}, Right pupil: {pupil_right_eye}, time: {timestamp})\".format(\n",
    "#    gaze_left_eye=gaze_data['left_gaze_point_on_display_area'],\n",
    "#    gaze_right_eye=gaze_data['right_gaze_point_on_display_area'],\n",
    "#    pupil_left_eye=gaze_data['left_pupil_diameter'],\n",
    "#    pupil_right_eye=gaze_data['right_pupil_diameter'],\n",
    "#    timestamp=gaze_data['device_time_stamp']))\n",
    "    \n",
    "    global event_count, key_pressed, global_csv_filename, event_csv_filename\n",
    "    \n",
    "    # Guardar los datos en un archivo CSV con nombres de columnas\n",
    "    csv_filename = global_csv_filename\n",
    "\n",
    "    # Definir nombres de columnas\n",
    "    fieldnames = ['Left Eye X', 'Left Eye Y', 'Right Eye X', 'Right Eye Y', 'Pupil left eye', 'Pupil right eye', 'Timestamp device', 'Timestamp system']\n",
    "#    fieldnames = ['Left Eye X', 'Left Eye Y', 'Right Eye X', 'Right Eye Y', 'Pupil left eye', 'Pupil right eye', 'Timestamp']\n",
    "    with open(csv_filename, mode='a', newline='') as file:\n",
    "        writer = csv.DictWriter(file, fieldnames=fieldnames)\n",
    "\n",
    "        # Si el archivo está vacío, escribir encabezados\n",
    "        if file.tell() == 0:\n",
    "            writer.writeheader()\n",
    "\n",
    "        # Obtener datos relevantes y formatearlos adecuadamente\n",
    "        left_eye_data = gaze_data['left_gaze_point_on_display_area']\n",
    "        right_eye_data = gaze_data['right_gaze_point_on_display_area']\n",
    "        left_eye_pupil = gaze_data['left_pupil_diameter']\n",
    "        right_eye_pupil = gaze_data['right_pupil_diameter']\n",
    "        timestamp_device = gaze_data['device_time_stamp']\n",
    "        timestamp_system = time.time()\n",
    "\n",
    "        # Asegurarse de que los datos son del tipo adecuado para la escritura CSV\n",
    "        left_eye_data = tuple(map(float, left_eye_data))\n",
    "        right_eye_data = tuple(map(float, right_eye_data))\n",
    "        \n",
    "\n",
    "        # Crear un diccionario con nombres de columnas\n",
    "        row_dict = {\n",
    "            'Left Eye X': left_eye_data[0],\n",
    "            'Left Eye Y': left_eye_data[1],\n",
    "            'Right Eye X': right_eye_data[0],\n",
    "            'Right Eye Y': right_eye_data[1],\n",
    "            'Pupil left eye': left_eye_pupil,\n",
    "            'Pupil right eye': right_eye_pupil,\n",
    "            'Timestamp device': timestamp_device,\n",
    "            'Timestamp system': timestamp_system\n",
    "        }\n",
    "\n",
    "        # Escribir datos en el archivo CSV\n",
    "        writer.writerow(row_dict)"
   ]
  },
  {
   "cell_type": "code",
   "execution_count": 26,
   "id": "72ab0209-7d8e-4226-bfa2-4446ef99b3c8",
   "metadata": {},
   "outputs": [],
   "source": [
    "\n",
    "with open(event_csv_filename, mode='a', newline='') as file:\n",
    "    event_writer = csv.writer(file)\n",
    "    if file.tell() == 0:\n",
    "        event_writer.writerow(['Evento','Timestamp'])\n",
    "\n",
    "def on_press(key):\n",
    "    print('{0} pressed'.format(key))\n",
    "\n",
    "def on_release(key):\n",
    "    timestamp = time.time()\n",
    "    print('{0} release'.format(key))\n",
    "    with open(event_csv_filename, mode='a', newline='') as file:\n",
    "        event_writer = csv.writer(file)\n",
    "        event_writer.writerow([f'Evento {key}', timestamp])\n",
    "\n",
    "    if key == Key.esc:\n",
    "        # Stop listener\n",
    "        return False\n",
    "\n",
    "# Collect events until released\n",
    "listener = Listener(on_press=on_press, on_release=on_release)\n"
   ]
  },
  {
   "cell_type": "markdown",
   "id": "300ecf6d-3bc7-420a-8b87-237ad063dd6d",
   "metadata": {},
   "source": [
    "## EMPEZAR GRABACION"
   ]
  },
  {
   "cell_type": "code",
   "execution_count": 27,
   "id": "278eb8d8-8f8e-4eae-b00c-0fbc8ad13df4",
   "metadata": {},
   "outputs": [
    {
     "name": "stdout",
     "output_type": "stream",
     "text": [
      "COMIENZO EXPERIMENTO PARA EL USUARIO: DATA/tobii/ALEX_gaze_data.csv\n",
      "'1' pressed\n",
      "'1' release\n",
      "'2' pressed\n",
      "'2' release\n",
      "'2' pressed\n",
      "'2' release\n",
      "'3' pressed\n",
      "'3' release\n",
      "'c' pressed\n",
      "'c' release\n",
      "'4' pressed\n",
      "'4' release\n",
      "'5' pressed\n",
      "'5' release\n",
      "'6' pressed\n",
      "'6' release\n"
     ]
    }
   ],
   "source": [
    "if os.path.exists(global_csv_filename):\n",
    "    print(\"CAMBIAR NOMBRE USER_IR\")\n",
    "else:\n",
    "    print(\"COMIENZO EXPERIMENTO PARA EL USUARIO: \"+global_csv_filename)\n",
    "    my_eyetracker.subscribe_to(tr.EYETRACKER_GAZE_DATA, gaze_data_callback, as_dictionary=True)\n",
    "    listener.start()"
   ]
  },
  {
   "cell_type": "markdown",
   "id": "e2023856-d54d-4715-8e18-c73ddd5147aa",
   "metadata": {},
   "source": [
    "##### PARAR GRABACION"
   ]
  },
  {
   "cell_type": "code",
   "execution_count": 28,
   "id": "af0d4d7d",
   "metadata": {},
   "outputs": [],
   "source": [
    "my_eyetracker.unsubscribe_from(tr.EYETRACKER_GAZE_DATA, gaze_data_callback)\n",
    "listener.stop()"
   ]
  },
  {
   "cell_type": "code",
   "execution_count": 15,
   "id": "62a91e44",
   "metadata": {},
   "outputs": [],
   "source": [
    "#https://ipywidgets.readthedocs.io/en/stable/examples/Widget%20List.html"
   ]
  },
  {
   "cell_type": "code",
   "execution_count": null,
   "id": "47494a3d-797d-4f62-8791-8332b86b7c0a",
   "metadata": {},
   "outputs": [],
   "source": []
  }
 ],
 "metadata": {
  "kernelspec": {
   "display_name": "Python 3 (ipykernel)",
   "language": "python",
   "name": "python3"
  },
  "language_info": {
   "codemirror_mode": {
    "name": "ipython",
    "version": 3
   },
   "file_extension": ".py",
   "mimetype": "text/x-python",
   "name": "python",
   "nbconvert_exporter": "python",
   "pygments_lexer": "ipython3",
   "version": "3.10.13"
  }
 },
 "nbformat": 4,
 "nbformat_minor": 5
}
